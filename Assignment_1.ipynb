{
 "cells": [
  {
   "cell_type": "code",
   "execution_count": 1,
   "id": "5a91f6a9",
   "metadata": {},
   "outputs": [
    {
     "name": "stdout",
     "output_type": "stream",
     "text": [
      "[0. 0. 0. 0. 1. 0. 0. 0. 0. 0.]\n"
     ]
    }
   ],
   "source": [
    "# 1. Create a null vector of size 10 but the fifth value which is 1.\n",
    "\n",
    "import numpy as np\n",
    "null_vector=np.zeros(10)\n",
    "null_vector[4]=1\n",
    "print(null_vector)"
   ]
  },
  {
   "cell_type": "code",
   "execution_count": 2,
   "id": "c64a5be3",
   "metadata": {},
   "outputs": [
    {
     "name": "stdout",
     "output_type": "stream",
     "text": [
      "[10 11 12 13 14 15 16 17 18 19 20 21 22 23 24 25 26 27 28 29 30 31 32 33\n",
      " 34 35 36 37 38 39 40 41 42 43 44 45 46 47 48 49]\n"
     ]
    }
   ],
   "source": [
    "# 2. Create a vector with values ranging from 10 to 49.\n",
    "\n",
    "import numpy as np\n",
    "new_vector=np.arange(10,50)\n",
    "print(new_vector)"
   ]
  },
  {
   "cell_type": "code",
   "execution_count": 3,
   "id": "b325d980",
   "metadata": {},
   "outputs": [
    {
     "name": "stdout",
     "output_type": "stream",
     "text": [
      "[[0 1 2]\n",
      " [3 4 5]\n",
      " [6 7 8]]\n"
     ]
    }
   ],
   "source": [
    "# 3. Create a 3x3 matrix with values ranging from 0 to 8\n",
    "\n",
    "import numpy as np\n",
    "matrix_3=np.array([[0,1,2],[3,4,5],[6,7,8]])\n",
    "print(matrix_3)"
   ]
  },
  {
   "cell_type": "code",
   "execution_count": 4,
   "id": "7e5420ea",
   "metadata": {},
   "outputs": [
    {
     "name": "stdout",
     "output_type": "stream",
     "text": [
      "Indices of non-zero elements :\n",
      "(array([0, 1, 4], dtype=int64),)\n"
     ]
    }
   ],
   "source": [
    "# 4. Find indices of non-zero elements from [1,2,0,0,4,0]\n",
    "\n",
    "import numpy as np\n",
    "l=[1,2,0,0,4,0]\n",
    "final_list=np.nonzero(l)\n",
    "print('Indices of non-zero elements :')\n",
    "print(final_list)"
   ]
  },
  {
   "cell_type": "code",
   "execution_count": 5,
   "id": "d293a812",
   "metadata": {},
   "outputs": [
    {
     "name": "stdout",
     "output_type": "stream",
     "text": [
      "The 10x10 array with random values is :\n",
      "\n",
      "[[65 64 96 22  5 12 41  3 18 12]\n",
      " [76 15 17  5  5 88 32 99 20 67]\n",
      " [28 63 53 18 54 65 71 59 64 68]\n",
      " [90 71 29 48 79 20 78 79 99 17]\n",
      " [ 9 13  7 94 42 64 41 35 25  3]\n",
      " [78 11 46 34 34 89 27 53 21 22]\n",
      " [87 96 40 92 16 40 95 89 39 36]\n",
      " [31 13 30  5 67 53  2 70 14 82]\n",
      " [64  7 37 67 62 60 95 32 65 78]\n",
      " [89 31 13 45 51 33 32  3 45 34]]\n",
      "\n",
      " The minimum value in the array is : 2\n",
      "The maximum value in the array is : 99\n"
     ]
    }
   ],
   "source": [
    "# 5. Create a 10x10 array with random values and find the minimum and maximum values.\n",
    "\n",
    "import numpy as np\n",
    "array=np.random.randint(low=1,high=100,size=(10,10))\n",
    "print('The 10x10 array with random values is :\\n')\n",
    "print(array)\n",
    "print('\\n The minimum value in the array is :',np.min(array))\n",
    "print('The maximum value in the array is :',np.max(array))"
   ]
  },
  {
   "cell_type": "code",
   "execution_count": 8,
   "id": "da866541",
   "metadata": {},
   "outputs": [
    {
     "name": "stdout",
     "output_type": "stream",
     "text": [
      "Random Vector is : [90 16 23 50 12 59 40 52 61 25 86 85 18 22 82 84 59  6 92  1 11 12 11 73\n",
      " 30 29 96 49 69  7]\n",
      "Mean value of the vector is : 45.0\n"
     ]
    }
   ],
   "source": [
    "# 6. Create a random vector of size 30 and find the mean value.\n",
    "\n",
    "import numpy as np\n",
    "random_vector=np.random.randint(1,100,30)\n",
    "mean_value=np.mean(random_vector)\n",
    "print('Random Vector is :', random_vector)\n",
    "print('Mean value of the vector is :', mean_value) "
   ]
  },
  {
   "cell_type": "code",
   "execution_count": null,
   "id": "29cf3f56",
   "metadata": {},
   "outputs": [],
   "source": []
  }
 ],
 "metadata": {
  "kernelspec": {
   "display_name": "Python 3 (ipykernel)",
   "language": "python",
   "name": "python3"
  },
  "language_info": {
   "codemirror_mode": {
    "name": "ipython",
    "version": 3
   },
   "file_extension": ".py",
   "mimetype": "text/x-python",
   "name": "python",
   "nbconvert_exporter": "python",
   "pygments_lexer": "ipython3",
   "version": "3.9.13"
  }
 },
 "nbformat": 4,
 "nbformat_minor": 5
}
